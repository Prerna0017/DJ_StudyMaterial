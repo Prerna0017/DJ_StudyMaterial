{
  "cells": [
    {
      "cell_type": "code",
      "execution_count": null,
      "id": "a774a0f1",
      "metadata": {
        "colab": {
          "base_uri": "https://localhost:8080/"
        },
        "id": "a774a0f1",
        "outputId": "709cacc4-fa93-421c-ae9f-75466fbbfed2"
      },
      "outputs": [
        {
          "output_type": "stream",
          "name": "stdout",
          "text": [
            "Epoch 1:\n",
            "Forward pass:\n",
            "Hidden layer: = 0.5498, z2 = 0.7109\n",
            "Error: 0.4773\n",
            "Updated weights after Backward pass:\n",
            "w31 = 0.4655\n",
            "w32 = 0.1847\n",
            "w11 = 0.6000\n",
            "w21 = -0.0882\n",
            "w12 = -0.3000\n",
            "w22 = 0.4024\n",
            "\n",
            "Output: y = 0.5227\n",
            "Epoch 800:\n",
            "Forward pass:\n",
            "Hidden layer: = 0.7626, z2 = 0.8334\n",
            "Error: 0.0214\n",
            "Updated weights after Backward pass:\n",
            "w31 = 2.4724\n",
            "w32 = 2.5640\n",
            "w11 = 0.6000\n",
            "w21 = 0.8674\n",
            "w12 = -0.3000\n",
            "w22 = 1.1099\n",
            "\n",
            "Output: y = 0.9786\n"
          ]
        }
      ],
      "source": [
        "import numpy as np\n",
        "import matplotlib.pyplot as plt\n",
        "# Initialize inputs\n",
        "x1 = 0\n",
        "x2 = 1\n",
        "# weights and biases of output layer\n",
        "w31 = 0.4\n",
        "w32 = 0.1\n",
        "b3 = -0.2\n",
        "# weights and biases of hidden layer\n",
        "w11 = 0.6\n",
        "w21 = -0.1\n",
        "w12 = -0.3\n",
        "w22 = 0.4\n",
        "b1 = 0.3\n",
        "b2 = 0.5\n",
        "\n",
        "errors = []\n",
        "\n",
        "# Define cost_function_sigmoid activation function\n",
        "def cost_function_sigmoid(x : int):\n",
        "    return 1 / (1 + np.exp(-x))\n",
        "\n",
        "# Number of epochs\n",
        "epochs = 800\n",
        "for epoch in range(epochs):\n",
        "    # Forward pass\n",
        "    z1_in = x1 * w11 + x2 * w21 + b1\n",
        "    z1 = cost_function_sigmoid(z1_in)\n",
        "\n",
        "    z2_in = x1 * w12 + x2 * w22 + b2\n",
        "    z2 = cost_function_sigmoid(z2_in)\n",
        "\n",
        "    y_in = z1 * w31 + z2 * w32 + b3\n",
        "    y = cost_function_sigmoid(y_in)\n",
        "\n",
        "    # Calculaing error\n",
        "    # Assuming a target value = 1\n",
        "    target = 1\n",
        "    error_y = (target - y)\n",
        "    errors.append(error_y)\n",
        "\n",
        "    # Backward pass\n",
        "    delta_y = y * (1 - y) * (target - y)\n",
        "    delta_z1 = z1 * (1 - z1) * w31 * delta_y\n",
        "    delta_z2 = z2 * (1 - z2) * w32 * delta_y\n",
        "\n",
        "    # Assuming learning rate (alpha)= 1\n",
        "    alpha = 1\n",
        "\n",
        "    # Update weights for output layer\n",
        "    w31 += alpha * z1 * delta_y\n",
        "    w32 += alpha * z2 * delta_y\n",
        "    # Update weights for hidden layer\n",
        "    w11 += alpha * x1 * delta_z1\n",
        "    w21 += alpha * x2 * delta_z1\n",
        "    w12 += alpha * x1 * delta_z2\n",
        "    w22 += alpha * x2 * delta_z2\n",
        "\n",
        "    if (epoch == 0 or epoch == 799):\n",
        "      print(f\"Epoch {epoch + 1}:\")\n",
        "      print(\"Forward pass:\")\n",
        "      print(f\"Hidden layer: = {z1:.4f}, z2 = {z2:.4f}\")\n",
        "      print(f\"Error: {error_y:.4f}\")\n",
        "      print(\"Updated weights after Backward pass:\")\n",
        "      print(f\"w31 = {w31:.4f}\")\n",
        "      print(f\"w32 = {w32:.4f}\")\n",
        "      print(f\"w11 = {w11:.4f}\")\n",
        "      print(f\"w21 = {w21:.4f}\")\n",
        "      print(f\"w12 = {w12:.4f}\")\n",
        "      print(f\"w22 = {w22:.4f}\\n\")\n",
        "      print(f\"Output: y = {y:.4f}\")"
      ]
    },
    {
      "cell_type": "code",
      "execution_count": null,
      "id": "3e8c7e69",
      "metadata": {
        "colab": {
          "base_uri": "https://localhost:8080/",
          "height": 472
        },
        "id": "3e8c7e69",
        "outputId": "689e702d-ce5c-4058-db10-18f4bc3bd427"
      },
      "outputs": [
        {
          "output_type": "display_data",
          "data": {
            "text/plain": [
              "<Figure size 640x480 with 1 Axes>"
            ],
            "image/png": "[encoded data removed]"
          },
          "metadata": {}
        }
      ],
      "source": [
        "plt.plot(range(1, epochs + 1), errors)\n",
        "plt.xlabel('Epoch')\n",
        "plt.ylabel('Error')\n",
        "plt.title('Graph of Error vs. Epochs')\n",
        "plt.show()"
      ]
    },
    {
      "cell_type": "code",
      "source": [],
      "metadata": {
        "id": "W3jYYZ3GxYai"
      },
      "id": "W3jYYZ3GxYai",
      "execution_count": null,
      "outputs": []
    }
  ],
  "metadata": {
    "kernelspec": {
      "display_name": "Python 3 (ipykernel)",
      "language": "python",
      "name": "python3"
    },
    "language_info": {
      "codemirror_mode": {
        "name": "ipython",
        "version": 3
      },
      "file_extension": ".py",
      "mimetype": "text/x-python",
      "name": "python",
      "nbconvert_exporter": "python",
      "pygments_lexer": "ipython3",
      "version": "3.10.4"
    },
    "colab": {
      "provenance": []
    }
  },
  "nbformat": 4,
  "nbformat_minor": 5
}